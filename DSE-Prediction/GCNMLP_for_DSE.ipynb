{
  "cells": [
    {
      "cell_type": "markdown",
      "metadata": {},
      "source": [
        "# Constructing GCNMLP for Drug-Aftereffect Prediction"
      ]
    },
    {
      "cell_type": "markdown",
      "metadata": {},
      "source": [
        "## Packages & CUDA"
      ]
    },
    {
      "cell_type": "code",
      "execution_count": 5,
      "metadata": {
        "id": "kYuOA5maJJki"
      },
      "outputs": [],
      "source": [
        "import dgl.nn as dglnn\n",
        "import pandas as pd\n",
        "import dgl\n",
        "import dgl.nn as dglnn\n",
        "import torch.nn as nn\n",
        "import dgl.function as fn\n",
        "import torch.nn.functional as F\n",
        "import numpy as np\n",
        "from dgl.data.utils import generate_mask_tensor\n",
        "import torch\n",
        "import scipy.sparse as sp\n",
        "from sklearn.metrics import roc_auc_score,precision_recall_curve, auc, f1_score,precision_score, recall_score,average_precision_score,label_ranking_average_precision_score\n",
        "from sklearn import metrics\n",
        "from sklearn.preprocessing import LabelEncoder , LabelBinarizer\n",
        "from sklearn import preprocessing\n",
        "import matplotlib.pyplot as plt"
      ]
    },
    {
      "cell_type": "code",
      "execution_count": 6,
      "metadata": {
        "colab": {
          "base_uri": "https://localhost:8080/"
        },
        "id": "Tj6UTSprH2TG",
        "outputId": "9dc9b1b6-dd7d-4766-bbc4-2cbeb9b4b366"
      },
      "outputs": [
        {
          "name": "stdout",
          "output_type": "stream",
          "text": [
            "CUDA is not available. PyTorch is using CPU.\n"
          ]
        }
      ],
      "source": [
        "if torch.cuda.is_available():\n",
        "    print(\"CUDA is available. PyTorch is using GPU.\")\n",
        "else:\n",
        "    print(\"CUDA is not available. PyTorch is using CPU.\")"
      ]
    },
    {
      "cell_type": "markdown",
      "metadata": {},
      "source": [
        "## Data Import & Encoding"
      ]
    },
    {
      "cell_type": "code",
      "execution_count": 7,
      "metadata": {
        "id": "eyWekngMK87P"
      },
      "outputs": [],
      "source": [
        "df = pd.read_csv(\"./Dataset/Cleaned_Datasets/snap_dse.csv\")\n",
        "drug_id = df[\"# STITCH\"]\n",
        "side_effect = df[\"Individual Side Effect\"]\n",
        "edgelist_dse = zip(side_effect, drug_id)\n",
        "dfs = df[['# STITCH','Individual Side Effect']]"
      ]
    },
    {
      "cell_type": "code",
      "execution_count": 8,
      "metadata": {
        "id": "-ZZd7jf-LDXg"
      },
      "outputs": [],
      "source": [
        "col_names = [\"left_side\",\"right_side\",\"similairity\"]\n",
        "drugsim = pd.read_csv(\"./Dataset/Cleaned_Datasets/snap_similarities.csv\",\n",
        "                      names=col_names, skiprows=1)\n",
        "source = drugsim[\"left_side\"]\n",
        "destination = drugsim[\"right_side\"]\n",
        "similarity = drugsim[\"similairity\"]\n",
        "edgelist_dd = zip(source, destination, similarity)"
      ]
    },
    {
      "cell_type": "code",
      "execution_count": 9,
      "metadata": {
        "id": "syg0nHB9JwYA"
      },
      "outputs": [],
      "source": [
        "le = preprocessing.LabelEncoder()\n",
        "\n",
        "le.fit(dfs['# STITCH'])\n",
        "dfs['drug_id']=le.transform(dfs['# STITCH'])\n",
        "drugsim['drug_id_left']=le.transform(drugsim['left_side'])\n",
        "drugsim['drug_id_right']=le.transform(drugsim['right_side'])\n",
        "\n",
        "le.fit(dfs['Individual Side Effect'])\n",
        "dfs['se_id']=le.transform(dfs['Individual Side Effect'])"
      ]
    },
    {
      "cell_type": "code",
      "execution_count": 10,
      "metadata": {
        "id": "UBHdYTCjL3kt"
      },
      "outputs": [],
      "source": [
        "drug_id = torch.LongTensor(dfs['drug_id'])\n",
        "side_id = torch.LongTensor(dfs['se_id'])\n",
        "\n",
        "src = torch.LongTensor(drugsim['drug_id_left'])\n",
        "dst = torch.LongTensor(drugsim['drug_id_right'])"
      ]
    },
    {
      "cell_type": "markdown",
      "metadata": {},
      "source": [
        "## Graph Construction"
      ]
    },
    {
      "cell_type": "code",
      "execution_count": 11,
      "metadata": {
        "id": "_DxT3bt3PB5T"
      },
      "outputs": [],
      "source": [
        "dse = dgl.heterograph({\n",
        "    ('drug_id', 'relate', 'side_id'): (drug_id, side_id),\n",
        "    ('side_id', 'relate-by', 'drug_id'): (side_id, drug_id),\n",
        "    ('drug_id','similar','drug_id'):(src,dst),\n",
        "    ('drug_id','similar-by','drug_id'):(dst,src)\n",
        "})\n",
        "\n",
        "# drug-drug similarity\n",
        "edge_weight_dd = torch.tensor(drugsim['similairity'].to_numpy())\n",
        "dse.edges['similar'].data['sim'] = edge_weight_dd\n",
        "dse.edges['similar-by'].data['sim'] = edge_weight_dd\n",
        "\n",
        "u,v = dse.edges(etype='relate')\n",
        "\n",
        "# put id on edges ('drug_id', 'relate', 'side_id')\n",
        "edge_ids = np.arange(dse.number_of_edges(('drug_id', 'relate', 'side_id')))\n",
        "\n",
        "adj = sp.coo_matrix((np.ones(len(u)), (u.numpy(), v.numpy())))\n",
        "\n",
        "adj_neg = 1 - adj.todense()\n",
        "neg_u, neg_v = np.where(adj_neg != 0)"
      ]
    },
    {
      "cell_type": "markdown",
      "metadata": {},
      "source": [
        "## GCNMLP"
      ]
    },
    {
      "cell_type": "code",
      "execution_count": 12,
      "metadata": {
        "id": "ZVkL_GP2z_vX"
      },
      "outputs": [],
      "source": [
        "# GCN\n",
        "class RGCN(nn.Module):\n",
        "    def __init__(self, in_feats, hid_feats, out_feats, rel_names):\n",
        "        super().__init__()\n",
        "        # featureless embedding\n",
        "        embed_dict = {ntype : nn.Parameter(torch.Tensor(dse.number_of_nodes(ntype), in_feats)) # in=10\n",
        "                      for ntype in dse.ntypes}\n",
        "        for key, embed in embed_dict.items():\n",
        "            nn.init.xavier_uniform_(embed)\n",
        "        self.embed = nn.ParameterDict(embed_dict)\n",
        "        # create layer\n",
        "        self.conv1 = dglnn.HeteroGraphConv({\n",
        "            rel: dglnn.GraphConv(in_feats, hid_feats) # 10,20\n",
        "            for rel in rel_names}, aggregate='sum')\n",
        "\n",
        "        self.conv2 = dglnn.HeteroGraphConv({\n",
        "          rel: dglnn.GraphConv(hid_feats, hid_feats) # 20,20\n",
        "          for rel in rel_names}, aggregate='sum')\n",
        "\n",
        "        self.conv3 = dglnn.HeteroGraphConv({\n",
        "            rel: dglnn.GraphConv(hid_feats, out_feats) # 20,5\n",
        "            for rel in rel_names}, aggregate='sum')\n",
        "\n",
        "    def forward(self, graph):\n",
        "        # inputs are features of nodes\n",
        "        h = self.conv1(graph, self.embed)\n",
        "        h = {k: F.relu(v) for k, v in h.items()}\n",
        "        h = self.conv2(graph, h)\n",
        "        h = {k: F.relu(v) for k, v in h.items()}\n",
        "        h = self.conv3(graph, h)\n",
        "        return h"
      ]
    },
    {
      "cell_type": "code",
      "execution_count": 13,
      "metadata": {
        "id": "VUY0NcvCQ4hl"
      },
      "outputs": [],
      "source": [
        "class MLPPredictor(nn.Module):\n",
        "    def __init__(self, in_features, out_classes):\n",
        "        super().__init__()\n",
        "        self.W1 = nn.Linear(in_features * 2, out_classes)\n",
        "\n",
        "    def apply_edges(self, edges):\n",
        "        h = torch.cat([edges.src['h'], edges.dst['h']], 1)\n",
        "        return {'score': self.W1(h)}\n",
        "\n",
        "    def forward(self, g, h, etype):\n",
        "        with g.local_scope():\n",
        "            g.ndata['h'] = h\n",
        "            g.apply_edges(lambda edges: self.apply_edges(edges), etype=etype)\n",
        "            return g.edata['score']"
      ]
    },
    {
      "cell_type": "code",
      "execution_count": 14,
      "metadata": {
        "id": "2r6shFj5SrzL"
      },
      "outputs": [],
      "source": [
        "class GCNMLP(nn.Module):\n",
        "    def __init__(self, in_features, hidden_features, mlp_hidden, rel_names):\n",
        "        super().__init__()\n",
        "        self.sage = RGCN(in_features, hidden_features, mlp_hidden, rel_names)\n",
        "        self.pred = MLPPredictor(mlp_hidden, 1)\n",
        "    def forward(self, g, pos_g,neg_g, etype):\n",
        "        h = self.sage(g) # process incomplete dse, output information\n",
        "        pred_pos_g = self.pred(pos_g, h, etype) # use information inferring pos_g graph\n",
        "        pred_neg_g = self.pred(neg_g, h, etype) # use information inferreing neg_g graph\n",
        "        pos_scores = pred_pos_g[etype]\n",
        "        neg_scores = pred_neg_g[etype]\n",
        "\n",
        "        return torch.sigmoid(pos_scores), torch.sigmoid(neg_scores)"
      ]
    },
    {
      "cell_type": "markdown",
      "metadata": {},
      "source": [
        "## Training"
      ]
    },
    {
      "cell_type": "code",
      "execution_count": 15,
      "metadata": {
        "id": "op4HKjLkeNj8"
      },
      "outputs": [],
      "source": [
        "fprd = dict()\n",
        "tprd = dict()\n",
        "roc_aucd = dict()\n",
        "precd = dict()\n",
        "recalld = dict()\n",
        "auc_prd = dict()"
      ]
    },
    {
      "cell_type": "code",
      "execution_count": 16,
      "metadata": {
        "id": "pormdFt6sehN"
      },
      "outputs": [],
      "source": [
        "neg_eids = np.random.choice(len(neg_u), dse.number_of_edges(('drug_id', 'relate', 'side_id')))"
      ]
    },
    {
      "cell_type": "code",
      "execution_count": 17,
      "metadata": {
        "id": "893SA6EhsoSu"
      },
      "outputs": [],
      "source": [
        "FOLDS = 10\n",
        "sz = dse.number_of_edges(('drug_id', 'relate', 'side_id'))\n",
        "eids = np.arange(sz)\n",
        "eids_pm = eids\n",
        "test_size = fsz = int(sz /10)\n",
        "np.random.shuffle(eids_pm)\n",
        "neg_eids_pm = neg_eids"
      ]
    },
    {
      "cell_type": "code",
      "execution_count": 18,
      "metadata": {
        "id": "LflsyFIVsojY"
      },
      "outputs": [],
      "source": [
        "IDX = u,v\n",
        "IDX_neg = neg_u,neg_v\n",
        "offset = 0\n",
        "AUC_roc_train = np.zeros(FOLDS)\n",
        "AUC_roc_valid = np.zeros(FOLDS)\n",
        "AUC_roc_test = np.zeros(FOLDS)\n",
        "AUC_pr_train = np.zeros(FOLDS)\n",
        "AUC_pr_valid = np.zeros(FOLDS)\n",
        "AUC_pr_test = np.zeros(FOLDS)\n",
        "F1_micro_test = np.zeros(FOLDS)\n",
        "F1_macro_test = np.zeros(FOLDS)\n",
        "F1_weight_test = np.zeros(FOLDS)\n",
        "Prec_micro_test = np.zeros(FOLDS)\n",
        "Prec_macro_test = np.zeros(FOLDS)\n",
        "Prec_weight_test  = np.zeros(FOLDS)\n",
        "Recall_micro_test = np.zeros(FOLDS)\n",
        "Recall_macro_test = np.zeros(FOLDS)\n",
        "Recall_weight_test = np.zeros(FOLDS)\n",
        "\n",
        "algod = {}\n",
        "losses = []"
      ]
    },
    {
      "cell_type": "code",
      "execution_count": 20,
      "metadata": {
        "id": "k5g25v_DuJdw"
      },
      "outputs": [],
      "source": [
        "def compute_auc(pos_score, neg_score):\n",
        "    scores = torch.cat([pos_score, neg_score]).numpy()\n",
        "    labels = torch.cat(\n",
        "        [torch.ones(pos_score.shape[0]), torch.zeros(neg_score.shape[0])]).numpy()\n",
        "    prediction_int = np.zeros_like(scores)\n",
        "    prediction_int[scores > 0.5] = 1\n",
        "    f1_micro = f1_score(labels, prediction_int, average='micro',zero_division=0)\n",
        "    f1_macro = f1_score(labels, prediction_int, average='macro',zero_division=0)\n",
        "    f1_weight = f1_score(labels, prediction_int, average='weighted',zero_division=0)\n",
        "    prec_micro = precision_score(labels, prediction_int, average='micro',zero_division=0)\n",
        "    prec_macro = precision_score(labels, prediction_int, average='macro',zero_division=0)\n",
        "    prec_weight = precision_score(labels, prediction_int, average='weighted',zero_division=0)\n",
        "    recall_micro = recall_score(labels, prediction_int, average='micro',zero_division=0)\n",
        "    recall_macro = recall_score(labels, prediction_int, average='macro',zero_division=0)\n",
        "    recall_weight = recall_score(labels, prediction_int, average='weighted',zero_division=0)\n",
        "\n",
        "    prec, recall, _ = precision_recall_curve(labels,scores)\n",
        "    pr_auc_score = auc(recall, prec)\n",
        "\n",
        "    fpr, tpr, _ = metrics.roc_curve(labels,scores)\n",
        "    roc_auc_score = metrics.auc(fpr, tpr)\n",
        "\n",
        "    return roc_auc_score, pr_auc_score, f1_micro, f1_macro, f1_weight, prec_micro, prec_macro, prec_weight, recall_micro,recall_macro, recall_weight,prec, recall, fpr, tpr\n",
        "\n",
        "def compute_loss(pos_score, neg_score):\n",
        "    scores = torch.cat([pos_score, neg_score]).squeeze(1)\n",
        "    labels = torch.cat([torch.ones(pos_score.shape[0]), torch.zeros(neg_score.shape[0])])\n",
        "    return F.binary_cross_entropy_with_logits(scores, labels)"
      ]
    },
    {
      "cell_type": "code",
      "execution_count": 61,
      "metadata": {
        "colab": {
          "base_uri": "https://localhost:8080/"
        },
        "id": "Xud0cxHiso01",
        "outputId": "5e7542d7-cbe2-493e-deab-b116f1bb9e00"
      },
      "outputs": [
        {
          "name": "stdout",
          "output_type": "stream",
          "text": [
            "== Fold: 0  ==\n",
            "the 0 loss= 0.7253361344337463\n",
            "the 20 loss= 0.6837995052337646\n",
            "the 40 loss= 0.6341156363487244\n",
            "the 60 loss= 0.6239686608314514\n",
            "the 80 loss= 0.6129037737846375\n",
            "the 100 loss= 0.6076048612594604\n",
            "the 120 loss= 0.6056514382362366\n",
            "the 140 loss= 0.604647159576416\n",
            "the 160 loss= 0.6040195226669312\n",
            "the 180 loss= 0.6036314368247986\n",
            "the 200 loss= 0.6033968329429626\n",
            "the 220 loss= 0.6032505631446838\n",
            "the 240 loss= 0.6031542420387268\n",
            "the 260 loss= 0.6030836701393127\n",
            "the 280 loss= 0.6030153632164001\n",
            "Result:\n",
            "AUC-ROC-TRAIN: 0.8735370248563079 AUC-PR-TRAIN: 0.8596906008903179\n",
            "AUC-ROC-TEST: 0.8672661081990725 AUC-PR-TEST: 0.8597060245391824\n",
            "== Fold: 1  ==\n",
            "the 0 loss= 0.7324332594871521\n",
            "the 20 loss= 0.68903648853302\n",
            "the 40 loss= 0.6379386186599731\n",
            "the 60 loss= 0.6250051856040955\n",
            "the 80 loss= 0.6122739315032959\n",
            "the 100 loss= 0.60638827085495\n",
            "the 120 loss= 0.6045945882797241\n",
            "the 140 loss= 0.6038302779197693\n",
            "the 160 loss= 0.6034148931503296\n",
            "the 180 loss= 0.6031718254089355\n",
            "the 200 loss= 0.6030292510986328\n",
            "the 220 loss= 0.6029453277587891\n",
            "the 240 loss= 0.6028891801834106\n",
            "the 260 loss= 0.6028445363044739\n",
            "the 280 loss= 0.6028097867965698\n",
            "Result:\n",
            "AUC-ROC-TRAIN: 0.874151612053224 AUC-PR-TRAIN: 0.860819794176579\n",
            "AUC-ROC-TEST: 0.8617845228370193 AUC-PR-TEST: 0.8499959079611017\n",
            "== Fold: 2  ==\n",
            "the 0 loss= 0.7196633815765381\n",
            "the 20 loss= 0.6517953872680664\n",
            "the 40 loss= 0.6281729936599731\n",
            "the 60 loss= 0.6169919371604919\n",
            "the 80 loss= 0.6083719730377197\n",
            "the 100 loss= 0.605423092842102\n",
            "the 120 loss= 0.6042020916938782\n",
            "the 140 loss= 0.6035770177841187\n",
            "the 160 loss= 0.6032454371452332\n",
            "the 180 loss= 0.6030660271644592\n",
            "the 200 loss= 0.6029664874076843\n",
            "the 220 loss= 0.6029049158096313\n",
            "the 240 loss= 0.6028557419776917\n",
            "the 260 loss= 0.602808952331543\n",
            "the 280 loss= 0.6027820706367493\n",
            "Result:\n",
            "AUC-ROC-TRAIN: 0.8741582996270831 AUC-PR-TRAIN: 0.8605457955746072\n",
            "AUC-ROC-TEST: 0.8622589516068185 AUC-PR-TEST: 0.8533644260913199\n",
            "== Fold: 3  ==\n",
            "the 0 loss= 0.7185081243515015\n",
            "the 20 loss= 0.6590036749839783\n",
            "the 40 loss= 0.6304494142532349\n",
            "the 60 loss= 0.6210633516311646\n",
            "the 80 loss= 0.6108078956604004\n",
            "the 100 loss= 0.6072365045547485\n",
            "the 120 loss= 0.605460524559021\n",
            "the 140 loss= 0.6044216156005859\n",
            "the 160 loss= 0.6038619875907898\n",
            "the 180 loss= 0.6035589575767517\n",
            "the 200 loss= 0.6033876538276672\n",
            "the 220 loss= 0.6032838821411133\n",
            "the 240 loss= 0.603213369846344\n",
            "the 260 loss= 0.6031595468521118\n",
            "the 280 loss= 0.6031081676483154\n",
            "Result:\n",
            "AUC-ROC-TRAIN: 0.8735680355836518 AUC-PR-TRAIN: 0.8599935229102327\n",
            "AUC-ROC-TEST: 0.865440733022043 AUC-PR-TEST: 0.8556615033054917\n",
            "== Fold: 4  ==\n",
            "the 0 loss= 0.727326512336731\n",
            "the 20 loss= 0.6937979459762573\n",
            "the 40 loss= 0.693453311920166\n",
            "the 60 loss= 0.693589448928833\n",
            "the 80 loss= 0.6934524178504944\n",
            "the 100 loss= 0.6934325695037842\n",
            "the 120 loss= 0.6934195756912231\n",
            "the 140 loss= 0.6934117078781128\n",
            "the 160 loss= 0.6934059262275696\n",
            "the 180 loss= 0.6934012174606323\n",
            "the 200 loss= 0.6933968663215637\n",
            "the 220 loss= 0.6933930516242981\n",
            "the 240 loss= 0.6933897137641907\n",
            "the 260 loss= 0.6933866739273071\n",
            "the 280 loss= 0.693384051322937\n",
            "Result:\n",
            "AUC-ROC-TRAIN: 0.3452252158738188 AUC-PR-TRAIN: 0.3985333727587057\n",
            "AUC-ROC-TEST: 0.34827604522535266 AUC-PR-TEST: 0.40119784085839305\n",
            "== Fold: 5  ==\n",
            "the 0 loss= 0.7271495461463928\n",
            "the 20 loss= 0.6697168946266174\n",
            "the 40 loss= 0.6300581097602844\n",
            "the 60 loss= 0.6205204725265503\n",
            "the 80 loss= 0.6105164289474487\n",
            "the 100 loss= 0.6061176657676697\n",
            "the 120 loss= 0.6046447157859802\n",
            "the 140 loss= 0.6038950681686401\n",
            "the 160 loss= 0.6034623384475708\n",
            "the 180 loss= 0.6031976938247681\n",
            "the 200 loss= 0.6030311584472656\n",
            "the 220 loss= 0.6029207706451416\n",
            "the 240 loss= 0.60284024477005\n",
            "the 260 loss= 0.6027711033821106\n",
            "the 280 loss= 0.6027091145515442\n",
            "Result:\n",
            "AUC-ROC-TRAIN: 0.8742095261408265 AUC-PR-TRAIN: 0.8610836749952635\n",
            "AUC-ROC-TEST: 0.8634713264262297 AUC-PR-TEST: 0.8513840772641496\n",
            "== Fold: 6  ==\n",
            "the 0 loss= 0.7171602845191956\n",
            "the 20 loss= 0.6713702082633972\n",
            "the 40 loss= 0.6284064054489136\n",
            "the 60 loss= 0.619453489780426\n",
            "the 80 loss= 0.6103448271751404\n",
            "the 100 loss= 0.6057842373847961\n",
            "the 120 loss= 0.6043652296066284\n",
            "the 140 loss= 0.6037095785140991\n",
            "the 160 loss= 0.6033455729484558\n",
            "the 180 loss= 0.6031244993209839\n",
            "the 200 loss= 0.6029823422431946\n",
            "the 220 loss= 0.6028836369514465\n",
            "the 240 loss= 0.6028082966804504\n",
            "the 260 loss= 0.6027485728263855\n",
            "the 280 loss= 0.6027006506919861\n",
            "Result:\n",
            "AUC-ROC-TRAIN: 0.8741890051118811 AUC-PR-TRAIN: 0.8609693242185802\n",
            "AUC-ROC-TEST: 0.8615180690402828 AUC-PR-TEST: 0.8495498291405172\n",
            "== Fold: 7  ==\n",
            "the 0 loss= 0.7179226875305176\n",
            "the 20 loss= 0.688804566860199\n",
            "the 40 loss= 0.6306062340736389\n",
            "the 60 loss= 0.6206620335578918\n",
            "the 80 loss= 0.6132238507270813\n",
            "the 100 loss= 0.6074317693710327\n",
            "the 120 loss= 0.6052018404006958\n",
            "the 140 loss= 0.6042786240577698\n",
            "the 160 loss= 0.6038398146629333\n",
            "the 180 loss= 0.6035867929458618\n",
            "the 200 loss= 0.603424072265625\n",
            "the 220 loss= 0.6033000946044922\n",
            "the 240 loss= 0.6031878590583801\n",
            "the 260 loss= 0.6031015515327454\n",
            "the 280 loss= 0.6030368208885193\n",
            "Result:\n",
            "AUC-ROC-TRAIN: 0.8735829378715209 AUC-PR-TRAIN: 0.8600434059351522\n",
            "AUC-ROC-TEST: 0.8678378601298706 AUC-PR-TEST: 0.8589402007221896\n",
            "== Fold: 8  ==\n",
            "the 0 loss= 0.7259835600852966\n",
            "the 20 loss= 0.693481981754303\n",
            "the 40 loss= 0.6933456063270569\n",
            "the 60 loss= 0.6935687065124512\n",
            "the 80 loss= 0.6934083104133606\n",
            "the 100 loss= 0.6934276819229126\n",
            "the 120 loss= 0.6934054493904114\n",
            "the 140 loss= 0.6933969855308533\n",
            "the 160 loss= 0.6933898329734802\n",
            "the 180 loss= 0.693383514881134\n",
            "the 200 loss= 0.6933793425559998\n",
            "the 220 loss= 0.6933765411376953\n",
            "the 240 loss= 0.6933746337890625\n",
            "the 260 loss= 0.6933733224868774\n",
            "the 280 loss= 0.6933724880218506\n",
            "Result:\n",
            "AUC-ROC-TRAIN: 0.34537673196314134 AUC-PR-TRAIN: 0.3987644878093579\n",
            "AUC-ROC-TEST: 0.3444093106218171 AUC-PR-TEST: 0.3982113972349821\n",
            "== Fold: 9  ==\n",
            "the 0 loss= 0.72758948802948\n",
            "the 20 loss= 0.6710891723632812\n",
            "the 40 loss= 0.6318159103393555\n",
            "the 60 loss= 0.6200373768806458\n",
            "the 80 loss= 0.6099323630332947\n",
            "the 100 loss= 0.6066784858703613\n",
            "the 120 loss= 0.6051250696182251\n",
            "the 140 loss= 0.604243814945221\n",
            "the 160 loss= 0.6037168502807617\n",
            "the 180 loss= 0.603407621383667\n",
            "the 200 loss= 0.6032224297523499\n",
            "the 220 loss= 0.6031070947647095\n",
            "the 240 loss= 0.6030318140983582\n",
            "the 260 loss= 0.6029877066612244\n",
            "the 280 loss= 0.6029394268989563\n",
            "Result:\n",
            "AUC-ROC-TRAIN: 0.8739293676772837 AUC-PR-TRAIN: 0.8601476949301388\n",
            "AUC-ROC-TEST: 0.8626111017214069 AUC-PR-TEST: 0.8540109178603286\n",
            "Mean +/- SD\n",
            "Mean AUC ROC TEST 0.7604874028829912   SD: 0.21144605746714834\n",
            "Mean AUC PR TEST 0.7632022124977655   SD: 0.184705625840648\n"
          ]
        }
      ],
      "source": [
        "for f in range(FOLDS):\n",
        "    print(\"== Fold:\",f,\" ==\")\n",
        "\n",
        "    fold_loss = []\n",
        "\n",
        "    test_pos_u, test_pos_v = idx_test = u[eids_pm[offset:offset+fsz]], v[eids_pm[offset:offset+fsz]]\n",
        "    test_neg_u, test_neg_v = idx_test_neg = neg_u[neg_eids_pm[offset:offset+fsz]], neg_v[neg_eids_pm[offset:offset+fsz]]\n",
        "\n",
        "\n",
        "    # training set\n",
        "    train_pos_u, train_pos_v = u[eids_pm[np.r_[:offset,offset + fsz:len(eids_pm)]]], v[eids_pm[np.r_[:offset,offset + fsz:len(eids_pm)]]]\n",
        "    # print('length of train_pos ',len(train_pos_u))\n",
        "    train_neg_u, train_neg_v = neg_u[neg_eids_pm[np.r_[:offset,offset + fsz:len(neg_eids_pm)]]], neg_v[neg_eids_pm[np.r_[:offset,offset + fsz:len(neg_eids_pm)]]]\n",
        "    # print('length of train_neg ',len(train_neg_u))\n",
        "\n",
        "    max_drug_id = max(train_pos_u.max(), test_pos_u.max())\n",
        "    max_side_id = max(train_pos_v.max(), test_pos_v.max())\n",
        "\n",
        "    # sub Graph: train_pos_g\n",
        "    num_nodes_dict = {'drug_id': max_drug_id + 1, 'side_id': max_side_id + 1}\n",
        "    train_pos_g = dgl.heterograph({\n",
        "        ('drug_id', 'relate', 'side_id'): (train_pos_u, train_pos_v),\n",
        "        ('side_id', 'relate-by', 'drug_id'): (train_pos_v, train_pos_u),\n",
        "        ('drug_id','similar','drug_id'):(src,dst),\n",
        "        ('drug_id','similar-by','drug_id'):(dst,src)\n",
        "\n",
        "    },num_nodes_dict=num_nodes_dict)\n",
        "    train_pos_g.edges['similar'].data['sim'] = edge_weight_dd\n",
        "    train_pos_g.edges['similar-by'].data['sim'] = edge_weight_dd\n",
        "\n",
        "    # sub Graph: train_neg_g\n",
        "    train_neg_g = dgl.heterograph({\n",
        "    ('drug_id', 'relate', 'side_id'): (train_neg_u, train_neg_v),\n",
        "    ('side_id', 'relate-by', 'drug_id'): (train_neg_v, train_neg_u),\n",
        "    ('drug_id','similar','drug_id'):(src,dst),\n",
        "    ('drug_id','similar-by','drug_id'):(dst,src)\n",
        "\n",
        "    },num_nodes_dict=num_nodes_dict)\n",
        "    train_neg_g.edges['similar'].data['sim'] = edge_weight_dd\n",
        "    train_neg_g.edges['similar-by'].data['sim'] = edge_weight_dd\n",
        "    test_pos_g = dgl.heterograph({\n",
        "    ('drug_id', 'relate', 'side_id'): (test_pos_u, test_pos_v),\n",
        "    ('side_id', 'relate-by', 'drug_id'): (test_pos_v, test_pos_u),\n",
        "    ('drug_id','similar','drug_id'):(src,dst),\n",
        "    ('drug_id','similar-by','drug_id'):(dst,src)\n",
        "\n",
        "    },num_nodes_dict=num_nodes_dict)\n",
        "    test_pos_g.edges['similar'].data['sim'] = edge_weight_dd\n",
        "    test_pos_g.edges['similar-by'].data['sim'] = edge_weight_dd\n",
        "\n",
        "    # sub Graph: test_neg_g\n",
        "    test_neg_g = dgl.heterograph({\n",
        "    ('drug_id', 'relate', 'side_id'): (test_neg_u, test_neg_v),\n",
        "    ('side_id', 'relate-by', 'drug_id'): (test_neg_v, test_neg_u),\n",
        "    ('drug_id','similar','drug_id'):(src,dst),\n",
        "    ('drug_id','similar-by','drug_id'):(dst,src)\n",
        "\n",
        "    },num_nodes_dict=num_nodes_dict)\n",
        "    test_neg_g.edges['similar'].data['sim'] = edge_weight_dd\n",
        "    test_neg_g.edges['similar-by'].data['sim'] = edge_weight_dd\n",
        "\n",
        "    # train_g: remove test set only\n",
        "    train_g = dgl.remove_edges(dse, eids_pm[offset:offset+fsz],'relate')\n",
        "\n",
        "    train_g = dgl.remove_edges(train_g, eids_pm[offset:offset+fsz],'relate-by')\n",
        "\n",
        "    # print(train_g.etypes)\n",
        "    # print(type(train_g))\n",
        "    # print(type(train_pos_g))\n",
        "    # print(type(train_neg_g))\n",
        "\n",
        "    model = GCNMLP(10, 20, 5, train_g.etypes) # inputfeatures=10, hidden_features=20, mlp_hidden=5, relation_names: train_g.etypes\n",
        "    opt = torch.optim.Adam(model.parameters(), lr=0.01, weight_decay=5e-4)\n",
        "\n",
        "    for epoch in range(300):\n",
        "        pos_score, neg_score = model(train_g,train_pos_g, train_neg_g, ('drug_id', 'relate', 'side_id'))\n",
        "        loss = compute_loss(pos_score, neg_score)\n",
        "        opt.zero_grad()\n",
        "        loss.backward()\n",
        "        opt.step()\n",
        "        fold_loss.append(loss.item())\n",
        "        if epoch % 20==0:\n",
        "            print('the',epoch,'loss=',loss.item())\n",
        "            # fold_loss.append(loss.item())\n",
        "            with torch.no_grad():\n",
        "                roc_auc_score_train, pr_auc_score_train , f1_micro_train, _ ,  _ ,  _ ,  _ ,  _ ,  _ , _ ,  _, prec, recall, fpr, tpr= compute_auc(pos_score, neg_score)\n",
        "                # print('roc_auc:',roc_auc_score_train,'f1 micro:',f1_micro_train)\n",
        "\n",
        "    # test set\n",
        "    with torch.no_grad():\n",
        "        print(\"Result:\")\n",
        "        print('AUC-ROC-TRAIN:', roc_auc_score_train,'AUC-PR-TRAIN:', pr_auc_score_train)\n",
        "        AUC_roc_train[f] = roc_auc_score_train\n",
        "        AUC_pr_train[f] = pr_auc_score_train\n",
        "        pos_score, neg_score = model(train_g,test_pos_g, test_neg_g, ('drug_id', 'relate', 'side_id'))\n",
        "        roc_auc_score_test,pr_auc_score_test, f1_micro_test, f1_macro_test, f1_weight_test, prec_micro_test, prec_macro_test, prec_weight_test, recall_micro_test,recall_macro_test, recall_weight_test, prec, recall, fpr, tpr = compute_auc(pos_score, neg_score)\n",
        "        print('AUC-ROC-TEST:', roc_auc_score_test,'AUC-PR-TEST:', pr_auc_score_test)\n",
        "        AUC_roc_test[f] = roc_auc_score_test\n",
        "        AUC_pr_test[f] = pr_auc_score_test\n",
        "        F1_micro_test[f] = f1_micro_test\n",
        "        F1_macro_test[f]  = f1_macro_test\n",
        "        F1_weight_test[f]  = f1_weight_test\n",
        "        Prec_micro_test[f]  = prec_micro_test\n",
        "        Prec_macro_test[f]  = prec_macro_test\n",
        "        Prec_weight_test[f]   = prec_weight_test\n",
        "        Recall_micro_test[f]  = recall_micro_test\n",
        "        Recall_macro_test[f]  = recall_macro_test\n",
        "        Recall_weight_test[f] = recall_weight_test\n",
        "\n",
        "        algod['fold'+str(f)] = {}\n",
        "        algod['fold'+str(f)]['gcnmlp'] = {}\n",
        "        algod['fold'+str(f)]['gcnmlp']['fpr'] = fpr\n",
        "        algod['fold'+str(f)]['gcnmlp']['tpr'] = tpr\n",
        "        algod['fold'+str(f)]['gcnmlp']['roc_auc'] = roc_auc_score_test\n",
        "        algod['fold'+str(f)]['gcnmlp']['prec'] = prec\n",
        "        algod['fold'+str(f)]['gcnmlp']['recall'] = recall\n",
        "        algod['fold'+str(f)]['gcnmlp']['auc_pr'] = pr_auc_score_test\n",
        "        algod['fold'+str(f)]['gcnmlp']['F1_macro'] = f1_macro_test\n",
        "        algod['fold'+str(f)]['gcnmlp']['Prec_macro'] = prec_macro_test\n",
        "        algod['fold'+str(f)]['gcnmlp']['Recall_macro'] = recall_macro_test\n",
        "    offset += fsz\n",
        "    losses.append(fold_loss)\n",
        "\n",
        "print(\"Mean +/- SD\")\n",
        "print(\"Mean AUC ROC TEST\", AUC_roc_test.mean(),\" \", \"SD:\", AUC_roc_train.std())\n",
        "print(\"Mean AUC PR TEST\", AUC_pr_test.mean(),\" \", \"SD:\", AUC_pr_train.std())"
      ]
    },
    {
      "cell_type": "markdown",
      "metadata": {
        "id": "x7ptTPBpyAC_"
      },
      "source": [
        "## Plotting Figures"
      ]
    },
    {
      "cell_type": "code",
      "execution_count": null,
      "metadata": {
        "id": "OEmPt64ryBqq"
      },
      "outputs": [],
      "source": [
        "losses = np.array(losses)\n",
        "avg_loss = np.mean(losses, axis=0)"
      ]
    },
    {
      "cell_type": "code",
      "execution_count": 70,
      "metadata": {
        "colab": {
          "base_uri": "https://localhost:8080/",
          "height": 564
        },
        "id": "iDjKZ0QJ8Y-v",
        "outputId": "17af6d81-5782-4b16-962a-6cb0b86e5114"
      },
      "outputs": [
        {
          "data": {
            "image/png": "[encoded data removed]",
            "text/plain": [
              "<Figure size 1000x600 with 1 Axes>"
            ]
          },
          "metadata": {},
          "output_type": "display_data"
        }
      ],
      "source": [
        "epochs = np.arange(1, len(avg_loss) + 1)\n",
        "\n",
        "plt.figure(figsize=(10,6))\n",
        "plt.plot(epochs, avg_loss, linestyle='-')\n",
        "plt.title('Average Loss over all Folds')\n",
        "plt.xlabel('Epoch')\n",
        "plt.ylabel('Loss')\n",
        "plt.grid(True)\n",
        "plt.savefig('GCNMLP_loss.pdf')\n",
        "plt.show()"
      ]
    }
  ],
  "metadata": {
    "accelerator": "GPU",
    "colab": {
      "gpuType": "T4",
      "provenance": []
    },
    "kernelspec": {
      "display_name": "Python 3",
      "name": "python3"
    },
    "language_info": {
      "codemirror_mode": {
        "name": "ipython",
        "version": 3
      },
      "file_extension": ".py",
      "mimetype": "text/x-python",
      "name": "python",
      "nbconvert_exporter": "python",
      "pygments_lexer": "ipython3",
      "version": "3.9.12"
    }
  },
  "nbformat": 4,
  "nbformat_minor": 0
}
